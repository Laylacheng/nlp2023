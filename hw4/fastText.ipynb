{
 "cells": [
  {
   "cell_type": "code",
   "execution_count": 1,
   "id": "e6a617dd",
   "metadata": {},
   "outputs": [],
   "source": [
    "import os\n",
    "import gensim\n",
    "import jieba\n",
    "import zhconv\n",
    "\n",
    "if (not os.path.isfile(\"dict.txt.big\")):\n",
    "    ! wget https://github.com/fxsjy/jieba/raw/master/extra_dict/dict.txt.big\n",
    "\n",
    "jieba.set_dictionary(\"dict.txt.big\")"
   ]
  },
  {
   "cell_type": "code",
   "execution_count": 2,
   "id": "7b968e8a",
   "metadata": {},
   "outputs": [],
   "source": [
    "import spacy\n",
    "\n",
    "nlp_zh = spacy.load(\"zh_core_web_sm\")\n",
    "nlp_en = spacy.load(\"en_core_web_sm\")"
   ]
  },
  {
   "cell_type": "code",
   "execution_count": 3,
   "id": "6ff2490a",
   "metadata": {},
   "outputs": [],
   "source": [
    "STOPWORDS =  nlp_zh.Defaults.stop_words | nlp_en.Defaults.stop_words | set([\"\\n\", \"\\r\\n\", \"\\t\", \" \", \"\"])\n",
    "\n",
    "for word in STOPWORDS.copy():\n",
    "    STOPWORDS.add(zhconv.convert(word, \"zh-tw\"))"
   ]
  },
  {
   "cell_type": "code",
   "execution_count": 4,
   "id": "a9f273a1",
   "metadata": {},
   "outputs": [],
   "source": [
    "def preprocess_and_tokenize(text, token_min_len = 1, token_max_len = 15, lower = True):\n",
    "    if (lower):\n",
    "        text = text.lower()\n",
    "    text = zhconv.convert(text, \"zh-tw\")\n",
    "    return [\n",
    "        token for token in jieba.cut(text, cut_all = False)\n",
    "        if token_min_len <= len(token) <= token_max_len and token not in STOPWORDS\n",
    "    ]"
   ]
  },
  {
   "cell_type": "code",
   "execution_count": 16,
   "id": "2863e15f",
   "metadata": {},
   "outputs": [],
   "source": [
    "import re\n",
    "\n",
    "def preprocess_and_tokenize(row):\n",
    "    # Remove any non-alphanumeric characters and convert to lowercase\n",
    "    processed_row = re.sub(r\"[^a-zA-Z0-9\\s]\", \"\", row.lower())\n",
    "    # Tokenize the processed row by splitting on whitespace\n",
    "    tokens = processed_row.split()\n",
    "    return tokens\n",
    "\n",
    "tokenized_data = []\n",
    "n = 0\n",
    "\n",
    "with open(\"wiki_seg.txt\", encoding='utf-8') as f:\n",
    "    for row in f.readlines():\n",
    "        tokenized_row = preprocess_and_tokenize(row)\n",
    "        tokenized_data.append(tokenized_row)\n"
   ]
  },
  {
   "cell_type": "code",
   "execution_count": 17,
   "id": "e7c1204f",
   "metadata": {},
   "outputs": [],
   "source": [
    "from gensim.models import FastText\n",
    "\n",
    "model = FastText()\n",
    "\n",
    "model.build_vocab(tokenized_data)\n",
    "model.train(tokenized_data, total_examples = len(tokenized_data), epochs = 300) \n",
    "\n",
    "model.save(\"fasttext.mdl\")"
   ]
  },
  {
   "cell_type": "code",
   "execution_count": 18,
   "id": "7040eb2a",
   "metadata": {},
   "outputs": [
    {
     "data": {
      "text/plain": [
       "[('blaxploitation', 0.4243933856487274),\n",
       " ('outcome', 0.407603919506073),\n",
       " ('propositions', 0.39980146288871765),\n",
       " ('symptoms', 0.39865773916244507),\n",
       " ('physalis', 0.394120454788208),\n",
       " ('outcomes', 0.3824048936367035),\n",
       " ('righteous', 0.38179323077201843),\n",
       " ('intruders', 0.377671480178833),\n",
       " ('emerged', 0.37718498706817627),\n",
       " ('protests', 0.3754940629005432)]"
      ]
     },
     "execution_count": 18,
     "metadata": {},
     "output_type": "execute_result"
    }
   ],
   "source": [
    "model.wv.most_similar(\"飲料\")"
   ]
  },
  {
   "cell_type": "code",
   "execution_count": 19,
   "id": "e38740da",
   "metadata": {},
   "outputs": [
    {
     "data": {
      "text/plain": [
       "[('sportscar', 0.577189028263092),\n",
       " ('vicar', 0.5765175819396973),\n",
       " ('sport', 0.5706731677055359),\n",
       " ('carrier', 0.5491780638694763),\n",
       " ('carel', 0.5439125895500183),\n",
       " ('pant', 0.5433809161186218),\n",
       " ('hire', 0.532235324382782),\n",
       " ('racer', 0.5291739106178284),\n",
       " ('sprinter', 0.5249852538108826),\n",
       " ('saloon', 0.5234070420265198)]"
      ]
     },
     "execution_count": 19,
     "metadata": {},
     "output_type": "execute_result"
    }
   ],
   "source": [
    "model.wv.most_similar(\"car\")"
   ]
  },
  {
   "cell_type": "code",
   "execution_count": 20,
   "id": "9d8c6f09",
   "metadata": {},
   "outputs": [
    {
     "data": {
      "text/plain": [
       "[('youtube', 0.7343934774398804),\n",
       " ('twitter', 0.6572933197021484),\n",
       " ('instagram', 0.640592098236084),\n",
       " ('2016', 0.6034048795700073),\n",
       " ('2015', 0.5937403440475464),\n",
       " ('2014', 0.5867704153060913),\n",
       " ('myradio', 0.5784428715705872),\n",
       " ('google', 0.5735743641853333),\n",
       " ('2017', 0.5628921985626221),\n",
       " ('2019', 0.5565149784088135)]"
      ]
     },
     "execution_count": 20,
     "metadata": {},
     "output_type": "execute_result"
    }
   ],
   "source": [
    "model.wv.most_similar(\"facebook\")"
   ]
  },
  {
   "cell_type": "code",
   "execution_count": 21,
   "id": "4c48f5c3",
   "metadata": {},
   "outputs": [
    {
     "data": {
      "text/plain": [
       "[('enviro400', 0.6054567694664001),\n",
       " ('v107', 0.4900737404823303),\n",
       " ('20082005', 0.4782906770706177),\n",
       " ('v106', 0.42807525396347046),\n",
       " ('cs55', 0.4104488790035248),\n",
       " ('tamelerdeamani', 0.40449631214141846),\n",
       " ('cs5', 0.39534831047058105),\n",
       " ('kobushi', 0.3933582901954651),\n",
       " ('jwp', 0.3882831931114197),\n",
       " ('v108', 0.3882051706314087)]"
      ]
     },
     "execution_count": 21,
     "metadata": {},
     "output_type": "execute_result"
    }
   ],
   "source": [
    "model.wv.most_similar(\"詐欺\")"
   ]
  },
  {
   "cell_type": "code",
   "execution_count": 22,
   "id": "39838692",
   "metadata": {},
   "outputs": [
    {
     "data": {
      "text/plain": [
       "[('0593', 0.32641032338142395),\n",
       " ('89148', 0.31937190890312195),\n",
       " ('inbev', 0.31526505947113037),\n",
       " ('77', 0.3137078285217285),\n",
       " ('2772', 0.3131355941295624),\n",
       " ('30k', 0.3131216764450073),\n",
       " ('5657', 0.3108726143836975),\n",
       " ('x55px', 0.3064502775669098),\n",
       " ('mp3264x24481', 0.3006058633327484),\n",
       " ('v104', 0.2967165410518646)]"
      ]
     },
     "execution_count": 22,
     "metadata": {},
     "output_type": "execute_result"
    }
   ],
   "source": [
    "model.wv.most_similar(\"合約\")"
   ]
  },
  {
   "cell_type": "code",
   "execution_count": 23,
   "id": "150d8b5d",
   "metadata": {},
   "outputs": [
    {
     "data": {
      "text/plain": [
       "[('blaxploitation', 0.4243933856487274),\n",
       " ('outcome', 0.407603919506073),\n",
       " ('propositions', 0.39980146288871765),\n",
       " ('symptoms', 0.39865773916244507),\n",
       " ('physalis', 0.394120454788208),\n",
       " ('outcomes', 0.3824048936367035),\n",
       " ('righteous', 0.38179323077201843),\n",
       " ('intruders', 0.377671480178833),\n",
       " ('emerged', 0.37718498706817627),\n",
       " ('protests', 0.3754940629005432)]"
      ]
     },
     "execution_count": 23,
     "metadata": {},
     "output_type": "execute_result"
    }
   ],
   "source": [
    "model.wv.most_similar(\"飲料\")"
   ]
  },
  {
   "cell_type": "code",
   "execution_count": 24,
   "id": "9cdaa412",
   "metadata": {},
   "outputs": [
    {
     "data": {
      "text/plain": [
       "-0.041576713"
      ]
     },
     "execution_count": 24,
     "metadata": {},
     "output_type": "execute_result"
    }
   ],
   "source": [
    "model.wv.similarity(\"連結\", \"鏈結\")"
   ]
  },
  {
   "cell_type": "code",
   "execution_count": 25,
   "id": "584a98b3",
   "metadata": {},
   "outputs": [
    {
     "data": {
      "text/plain": [
       "-0.07708004"
      ]
     },
     "execution_count": 25,
     "metadata": {},
     "output_type": "execute_result"
    }
   ],
   "source": [
    "model.wv.similarity(\"連結\", \"陰天\")"
   ]
  }
 ],
 "metadata": {
  "kernelspec": {
   "display_name": "Python 3 (ipykernel)",
   "language": "python",
   "name": "python3"
  },
  "language_info": {
   "codemirror_mode": {
    "name": "ipython",
    "version": 3
   },
   "file_extension": ".py",
   "mimetype": "text/x-python",
   "name": "python",
   "nbconvert_exporter": "python",
   "pygments_lexer": "ipython3",
   "version": "3.9.12"
  }
 },
 "nbformat": 4,
 "nbformat_minor": 5
}
