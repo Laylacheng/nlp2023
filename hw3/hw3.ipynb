{
  "cells": [
    {
      "cell_type": "markdown",
      "source": [
        "學號:B0928031\n",
        "\n",
        "姓名:鄭茹云\n",
        "\n",
        "學系:人工智慧三甲\n",
        "\n",
        "連結:https://colab.research.google.com/drive/1-Cmwt5E8YsSu4I7nwSt9XCeqOjkhZAnT?usp=share_link\n"
      ],
      "metadata": {
        "id": "JalMUx-1dxse"
      }
    },
    {
      "cell_type": "code",
      "execution_count": null,
      "metadata": {
        "colab": {
          "base_uri": "https://localhost:8080/"
        },
        "id": "EOQUYqoaFLjy",
        "outputId": "405a2c9e-6cf2-47e6-efa9-32ff3f8d5211"
      },
      "outputs": [
        {
          "name": "stdout",
          "output_type": "stream",
          "text": [
            "C:\\Users\\layla\\Downloads\n"
          ]
        }
      ],
      "source": [
        "import os\n",
        "print(os.getcwd())"
      ]
    },
    {
      "cell_type": "code",
      "execution_count": null,
      "metadata": {
        "colab": {
          "base_uri": "https://localhost:8080/"
        },
        "id": "q8mxWZmbFmx8",
        "outputId": "96cd9b23-316a-4e20-8d25-6fbddeb4ec46"
      },
      "outputs": [
        {
          "name": "stdout",
          "output_type": "stream",
          "text": [
            "C:\\Users\\layla\\Downloads\\hw2.json\n"
          ]
        }
      ],
      "source": [
        "print(os.path.abspath(\"hw2.json\"))"
      ]
    },
    {
      "cell_type": "code",
      "execution_count": null,
      "metadata": {
        "id": "LVQZ7mtJKzgT"
      },
      "outputs": [],
      "source": [
        "import json\n",
        "from sklearn.feature_extraction.text import TfidfVectorizer\n",
        "from sklearn.neighbors import KNeighborsClassifier\n",
        "from sklearn.svm import SVC\n",
        "from sklearn.metrics import accuracy_score\n",
        "\n",
        "# 讀取 hw2.json 檔\n",
        "file = open('hw2.json', 'r', encoding='utf-8') \n",
        " \n",
        "mm=[]\n",
        "#會出現error因為json內容太大，一行一行讀取在合併\n",
        "\n",
        "for line in file.readlines():\n",
        "    movie_data = json.loads(line)\n",
        "    mm.append(movie_data)\n",
        "\n",
        "X = []\n",
        "y = []\n",
        "for movie in mm:\n",
        "    if movie['label'] != 'NA': #忽略NA\n",
        "        X.append(movie[\"intro\"])\n",
        "        y.append(movie['label'])"
      ]
    },
    {
      "cell_type": "code",
      "source": [],
      "metadata": {
        "id": "8PVUY1sMrZ7l"
      },
      "execution_count": null,
      "outputs": []
    },
    {
      "cell_type": "code",
      "execution_count": null,
      "metadata": {
        "id": "IiOZGpf2Eru6"
      },
      "outputs": [],
      "source": [
        "vectorizer = TfidfVectorizer()\n",
        "X_tfidf = vectorizer.fit_transform(X)\n",
        "\n",
        "#500拿來評估\n",
        "train_X_tfidf = X_tfidf[:-500]\n",
        "train_y = y[:-500]\n",
        "test_X_tfidf = X_tfidf[-500:]\n",
        "test_y = y[-500:]\n"
      ]
    },
    {
      "cell_type": "code",
      "execution_count": null,
      "metadata": {
        "id": "E3QiIQ2PErxG",
        "outputId": "06916fe6-dd00-4fe1-e636-341987cc3ed8"
      },
      "outputs": [
        {
          "name": "stdout",
          "output_type": "stream",
          "text": [
            "KNN classifier accuracy: 38.80%\n"
          ]
        },
        {
          "name": "stderr",
          "output_type": "stream",
          "text": [
            "C:\\Users\\layla\\anaconda3\\lib\\site-packages\\sklearn\\neighbors\\_classification.py:228: FutureWarning: Unlike other reduction functions (e.g. `skew`, `kurtosis`), the default behavior of `mode` typically preserves the axis it acts along. In SciPy 1.11.0, this behavior will change: the default value of `keepdims` will become False, the `axis` over which the statistic is taken will be eliminated, and the value None will no longer be accepted. Set `keepdims` to True or False to avoid this warning.\n",
            "  mode, _ = stats.mode(_y[neigh_ind, k], axis=1)\n"
          ]
        }
      ],
      "source": [
        "knn_classifier = KNeighborsClassifier(n_neighbors=5)\n",
        "knn_classifier.fit(train_X_tfidf, train_y)\n",
        "knn_y_pred = knn_classifier.predict(test_X_tfidf)\n",
        "knn_accuracy = accuracy_score(test_y, knn_y_pred)\n",
        "\n",
        "print('KNN classifier accuracy: %.2f%%' % (knn_accuracy * 100))"
      ]
    },
    {
      "cell_type": "code",
      "execution_count": null,
      "metadata": {
        "id": "jS4LzFyOdvgV",
        "outputId": "538577b9-fa35-47a8-d2db-9bf59c87db2c"
      },
      "outputs": [
        {
          "name": "stdout",
          "output_type": "stream",
          "text": [
            "SVM classifier accuracy: 38.40%\n"
          ]
        }
      ],
      "source": [
        "# SVM\n",
        "svm_classifier = SVC(kernel='linear')\n",
        "svm_classifier.fit(train_X_tfidf, train_y)\n",
        "svm_y_pred = svm_classifier.predict(test_X_tfidf)\n",
        "svm_accuracy = accuracy_score(test_y, svm_y_pred)\n",
        "\n",
        "\n",
        "print('SVM classifier accuracy: %.2f%%' % (svm_accuracy * 100))"
      ]
    },
    {
      "cell_type": "code",
      "execution_count": null,
      "metadata": {
        "id": "l9xe4a1CdvgW"
      },
      "outputs": [],
      "source": []
    }
  ],
  "metadata": {
    "colab": {
      "provenance": []
    },
    "kernelspec": {
      "display_name": "Python 3 (ipykernel)",
      "language": "python",
      "name": "python3"
    },
    "language_info": {
      "codemirror_mode": {
        "name": "ipython",
        "version": 3
      },
      "file_extension": ".py",
      "mimetype": "text/x-python",
      "name": "python",
      "nbconvert_exporter": "python",
      "pygments_lexer": "ipython3",
      "version": "3.9.13"
    }
  },
  "nbformat": 4,
  "nbformat_minor": 0
}